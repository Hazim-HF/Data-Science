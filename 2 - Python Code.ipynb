{
 "cells": [
  {
   "cell_type": "markdown",
   "id": "08c236ea-dc3e-45e0-ab2a-beed143c1b7a",
   "metadata": {},
   "source": [
    "#### Flowchart\n",
    "- depict logical steps to carry out a task"
   ]
  },
  {
   "cell_type": "markdown",
   "id": "b5b2ac01-2402-4022-8f75-3735a473692f",
   "metadata": {},
   "source": [
    "#### Pseudocode\n",
    "- "
   ]
  },
  {
   "cell_type": "markdown",
   "id": "3ca17475-6991-4a3f-b48e-ca1779d0c4fd",
   "metadata": {},
   "source": [
    "#### Hierarchy\n",
    "- Read from left to right"
   ]
  },
  {
   "cell_type": "code",
   "execution_count": 3,
   "id": "0a2d3a20-42ae-4c8a-8147-af397e11abe4",
   "metadata": {},
   "outputs": [
    {
     "name": "stdout",
     "output_type": "stream",
     "text": [
      "Hello World\n"
     ]
    }
   ],
   "source": [
    "message = \"Hello World\"\n",
    "print(message)"
   ]
  },
  {
   "cell_type": "code",
   "execution_count": 7,
   "id": "a4b85490-1657-4916-ba6c-739f0844a643",
   "metadata": {},
   "outputs": [
    {
     "name": "stdout",
     "output_type": "stream",
     "text": [
      "Ada Lovelace\n",
      "ADA LOVELACE\n",
      "ada lovelace\n"
     ]
    }
   ],
   "source": [
    "# Modifying case in strings\n",
    "name = \"ada lovelace\"\n",
    "print(name.title())\n",
    "print(name.upper())\n",
    "print(name.lower())"
   ]
  },
  {
   "cell_type": "code",
   "execution_count": 21,
   "id": "77d80e3d-1bfa-4cda-bbf9-46ad12349a90",
   "metadata": {},
   "outputs": [
    {
     "name": "stdout",
     "output_type": "stream",
     "text": [
      "ada lovelace\n",
      "Hello, Ada Lovelace!\n"
     ]
    }
   ],
   "source": [
    "# Combining strings\n",
    "first_name = \"ada\"\n",
    "last_name = \"lovelace\"\n",
    "full_name = first_name + \" \" + last_name\n",
    "print(full_name)\n",
    "print(\"Hello, \" + full_name.title() + \"!\")"
   ]
  },
  {
   "cell_type": "code",
   "execution_count": 19,
   "id": "a2efd250-8d00-4ab3-9b6f-aca5920b5502",
   "metadata": {},
   "outputs": [
    {
     "name": "stdout",
     "output_type": "stream",
     "text": [
      "ada      lovelace   \n",
      "         ada     lovelace\n",
      "adalovelace\n"
     ]
    }
   ],
   "source": [
    "# Remove whitespace\n",
    "first_name = \"         ada      \"\n",
    "last_name = \"     lovelace   \"\n",
    "print(first_name.lstrip() + last_name.lstrip())\n",
    "print(first_name.rstrip() + last_name.rstrip())\n",
    "print(first_name.strip() + last_name.strip())"
   ]
  },
  {
   "cell_type": "code",
   "execution_count": null,
   "id": "91cc8c6c-d63a-4d25-92b1-6eabcc1829e9",
   "metadata": {},
   "outputs": [],
   "source": []
  }
 ],
 "metadata": {
  "kernelspec": {
   "display_name": "Python 3 (ipykernel)",
   "language": "python",
   "name": "python3"
  },
  "language_info": {
   "codemirror_mode": {
    "name": "ipython",
    "version": 3
   },
   "file_extension": ".py",
   "mimetype": "text/x-python",
   "name": "python",
   "nbconvert_exporter": "python",
   "pygments_lexer": "ipython3",
   "version": "3.12.4"
  }
 },
 "nbformat": 4,
 "nbformat_minor": 5
}
