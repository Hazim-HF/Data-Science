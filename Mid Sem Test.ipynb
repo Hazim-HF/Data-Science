{
 "cells": [
  {
   "cell_type": "markdown",
   "metadata": {},
   "source": [
    "### Question 1"
   ]
  },
  {
   "cell_type": "code",
   "execution_count": 24,
   "metadata": {},
   "outputs": [
    {
     "name": "stdout",
     "output_type": "stream",
     "text": [
      "Your grade is A\n"
     ]
    }
   ],
   "source": [
    "# Question 1\n",
    "number = int(input(\"Please enter a number:\"))\n",
    "if number > 90:\n",
    "    print(\"Your grade is A\")\n",
    "elif number >= 80 and number <= 90:\n",
    "    print(\"Your grade is B\")\n",
    "elif number >= 60 and number < 80:\n",
    "    print(\"Your grade is C\")\n",
    "elif number < 60:\n",
    "    print(\"Your grade is D\")"
   ]
  },
  {
   "cell_type": "markdown",
   "metadata": {},
   "source": [
    "### Question 2"
   ]
  },
  {
   "cell_type": "code",
   "execution_count": 29,
   "metadata": {},
   "outputs": [
    {
     "name": "stdout",
     "output_type": "stream",
     "text": [
      "Samad's dream vacation is Bora-Bora\n",
      "Ali's dream vacation is Langkawi\n",
      "Ahmad's dream vacation is USA\n",
      "Fatimah's dream vacation is Melaka\n",
      "John's dream vacation is Selangor\n"
     ]
    },
    {
     "data": {
      "text/plain": [
       "['Bora-Bora', 'Langkawi', 'USA', 'Melaka', 'Selangor']"
      ]
     },
     "execution_count": 29,
     "metadata": {},
     "output_type": "execute_result"
    }
   ],
   "source": [
    "# Question 2\n",
    "\n",
    "dream_vacation = {'Samad':'Bora-Bora',\n",
    "                  'Ali':'Langkawi',\n",
    "                  'Ahmad':'USA',\n",
    "                  'Fatimah':'Melaka',\n",
    "                  'John':'Selangor'}\n",
    "\n",
    "dream_vacation\n",
    "dream_location = []\n",
    "\n",
    "for name, destination in dream_vacation.items():\n",
    "    print(f\"{name}'s dream vacation is {destination}\")\n",
    "    dream_location.append(destination)\n",
    "    \n",
    "dream_location"
   ]
  },
  {
   "cell_type": "markdown",
   "metadata": {},
   "source": [
    "### Question 3"
   ]
  },
  {
   "cell_type": "code",
   "execution_count": null,
   "metadata": {},
   "outputs": [
    {
     "name": "stdout",
     "output_type": "stream",
     "text": [
      "Hazim's dream job is Pilot\n",
      "Samad's dream job is Police\n",
      "Zul's dream job is Businessman\n"
     ]
    }
   ],
   "source": [
    "# Question 3\n",
    "dream_job = {}\n",
    "while True:\n",
    "    user = input(\"What is your name?\")\n",
    "    if user.lower() == 'quit':\n",
    "        break\n",
    "    job = input(\"What is your dream job?\")\n",
    "    dream_job[user] = job\n",
    "\n",
    "for key, value in dream_job.items():\n",
    "    print(f\"{key.title()}'s dream job is {value}\")"
   ]
  },
  {
   "cell_type": "markdown",
   "metadata": {},
   "source": [
    "### Question 4"
   ]
  },
  {
   "cell_type": "code",
   "execution_count": 42,
   "metadata": {},
   "outputs": [
    {
     "name": "stdout",
     "output_type": "stream",
     "text": [
      "You guessed it right!\n"
     ]
    }
   ],
   "source": [
    "# Question 4\n",
    "secret_number = 45\n",
    "guess = int(input(\"Guess the number between 10 and 50:\"))\n",
    "while True:\n",
    "    if guess >= 10 and guess <= 50:\n",
    "        if guess == secret_number:\n",
    "            print(\"You guessed it right!\")\n",
    "            break\n",
    "        else:\n",
    "            guess = int(input(\"Wrong! guess again:\"))\n",
    "    else:\n",
    "        guess = int(input(\"Number out of range of 10 and 50, please guess again:\"))"
   ]
  },
  {
   "cell_type": "markdown",
   "metadata": {},
   "source": [
    "### Question 5"
   ]
  },
  {
   "cell_type": "code",
   "execution_count": null,
   "metadata": {},
   "outputs": [
    {
     "name": "stdout",
     "output_type": "stream",
     "text": [
      "The fruit is Durian and it is yellow.\n"
     ]
    }
   ],
   "source": [
    "# Question 5\n",
    "def describe_fruits(name, color):\n",
    "    print(f\"The fruit is {name} and it is {color}.\")\n",
    "\n",
    "describe_fruits(\"Durian\", \"yellow\")"
   ]
  }
 ],
 "metadata": {
  "kernelspec": {
   "display_name": "base",
   "language": "python",
   "name": "python3"
  },
  "language_info": {
   "codemirror_mode": {
    "name": "ipython",
    "version": 3
   },
   "file_extension": ".py",
   "mimetype": "text/x-python",
   "name": "python",
   "nbconvert_exporter": "python",
   "pygments_lexer": "ipython3",
   "version": "3.11.7"
  }
 },
 "nbformat": 4,
 "nbformat_minor": 2
}
