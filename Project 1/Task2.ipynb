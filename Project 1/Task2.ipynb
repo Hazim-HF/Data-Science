{
 "cells": [
  {
   "cell_type": "markdown",
   "metadata": {},
   "source": [
    "# Product Price Management System"
   ]
  },
  {
   "cell_type": "code",
   "execution_count": 1,
   "metadata": {},
   "outputs": [],
   "source": [
    "def add_product(products):\n",
    "    name = input(\"Enter product name: \")\n",
    "    price = float(input(\"Enter product price: \"))\n",
    "    quantity = int(input(\"Enter product quantity: \"))\n",
    "    products[name] = [price, quantity]\n",
    "\n",
    "def update_product(products):\n",
    "    name = input(\"Enter product name to update: \")\n",
    "    if name in products:\n",
    "        price = float(input(\"Enter new product price: \"))\n",
    "        quantity = int(input(\"Enter new product quantity: \"))\n",
    "        products[name] = [price, quantity]\n",
    "    else:\n",
    "        print(\"Product not found.\")\n",
    "\n",
    "def view_products(products):\n",
    "    for name, details in products.items():\n",
    "        print(f\"Product: {name}, Price: {details[0]}, Quantity: {details[1]}\")\n",
    "\n",
    "def main():\n",
    "    products = {}\n",
    "    while True:\n",
    "        action = input(\"What would you like to do? (Add/Update/View/Stop): \")\n",
    "        if action.lower() == \"add\":\n",
    "            add_product(products)\n",
    "        elif action.lower() == \"update\":\n",
    "            update_product(products)\n",
    "        elif action.lower() == \"view\":\n",
    "            view_products(products)\n",
    "        elif action.lower() == \"stop\":\n",
    "            break\n",
    "        else:\n",
    "            print(\"Invalid action. Please choose Add, Update, View, or Stop.\")\n",
    "\n",
    "if __name__ == \"__main__\":\n",
    "    main()\n"
   ]
  },
  {
   "cell_type": "code",
   "execution_count": null,
   "metadata": {},
   "outputs": [],
   "source": []
  }
 ],
 "metadata": {
  "kernelspec": {
   "display_name": "Python 3",
   "language": "python",
   "name": "python3"
  },
  "language_info": {
   "codemirror_mode": {
    "name": "ipython",
    "version": 3
   },
   "file_extension": ".py",
   "mimetype": "text/x-python",
   "name": "python",
   "nbconvert_exporter": "python",
   "pygments_lexer": "ipython3",
   "version": "3.12.6"
  }
 },
 "nbformat": 4,
 "nbformat_minor": 2
}
