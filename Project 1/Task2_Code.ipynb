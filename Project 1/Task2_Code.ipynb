{
 "cells": [
  {
   "cell_type": "markdown",
   "metadata": {},
   "source": [
    "# Product Price Management System"
   ]
  },
  {
   "cell_type": "code",
   "execution_count": 2,
   "metadata": {},
   "outputs": [
    {
     "name": "stdout",
     "output_type": "stream",
     "text": [
      "Product: rice cooker, Price: 43.3, Quantity: 4\n",
      "Product: rice cooker, Price: 43.3, Quantity: 4\n"
     ]
    }
   ],
   "source": [
    "def add_prod(products):\n",
    "    name = input('Please enter the product name: ')\n",
    "    price = float(input('Please enter the product price: '))\n",
    "    qty = int(input('Please nter the product quantity: '))\n",
    "    products[name] = [price, qty]\n",
    "\n",
    "def update_prod(products):\n",
    "    name = input('Please enter the product name that you wish to update: ')\n",
    "    if name in products:\n",
    "        price = float(input('Please enter the new product price: '))\n",
    "        qty = int(input('Please enter the new product quantity: '))\n",
    "        products[name] = [price, qty]\n",
    "    else:\n",
    "        print('Product not found! Please try again.')\n",
    "\n",
    "def view_prod(products):\n",
    "    for name, details in products.items():\n",
    "        print(f'Product: {name}, Price: {details[0]}, Quantity: {details[1]}')\n",
    "\n",
    "def main():\n",
    "    products = {}\n",
    "    while True:\n",
    "        action = input('What would you like to do? (Add/Update/View/Stop): ')\n",
    "        if action.lower() == 'add':\n",
    "            add_prod(products)\n",
    "        elif action.lower() == 'update':\n",
    "            update_prod(products)\n",
    "        elif action.lower() == 'view':\n",
    "            view_prod(products)\n",
    "        elif action.lower() == 'stop':\n",
    "            break\n",
    "        else:\n",
    "            print('Error: Action not in option! Please re-choose your action (Add, Update, View, or Stop)')\n",
    "\n",
    "if __name__ == '__main__':\n",
    "    main()"
   ]
  }
 ],
 "metadata": {
  "kernelspec": {
   "display_name": "Python 3",
   "language": "python",
   "name": "python3"
  },
  "language_info": {
   "codemirror_mode": {
    "name": "ipython",
    "version": 3
   },
   "file_extension": ".py",
   "mimetype": "text/x-python",
   "name": "python",
   "nbconvert_exporter": "python",
   "pygments_lexer": "ipython3",
   "version": "3.12.6"
  }
 },
 "nbformat": 4,
 "nbformat_minor": 2
}
