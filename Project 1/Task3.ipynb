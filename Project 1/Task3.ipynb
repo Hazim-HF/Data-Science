{
 "cells": [
  {
   "cell_type": "markdown",
   "metadata": {},
   "source": []
  },
  {
   "cell_type": "code",
   "execution_count": null,
   "metadata": {},
   "outputs": [],
   "source": [
    "class Book:\n",
    "    def __init__(self, title, author, pages):\n",
    "        self.title = title\n",
    "        self.author = author\n",
    "        self.pages = pages\n",
    "\n",
    "    def get_info(self):\n",
    "        return f\"Title: {self.title}, Author: {self.author}, Pages: {self.pages}\"\n",
    "\n",
    "class EBook(Book):\n",
    "    def __init__(self, title, author, pages, file_size):\n",
    "        super().__init__(title, author, pages)\n",
    "        self.file_size = file_size\n",
    "\n",
    "    def get_info(self):\n",
    "        return f\"Title: {self.title}, Author: {self.author}, Pages: {self.pages}, File Size: {self.file_size}MB\"\n",
    "\n",
    "def main():\n",
    "    books = []\n",
    "    ebooks = []\n",
    "\n",
    "    for i in range(5):\n",
    "        books.append(Book(f\"Book{i+1}\", f\"Author{i+1}\", 100 + i*10))\n",
    "        ebooks.append(EBook(f\"EBook{i+1}\", f\"Author{i+1}\", 100 + i*10, 1 + i*0.5))\n",
    "\n",
    "    for book in books:\n",
    "        print(book.get_info())\n",
    "\n",
    "    for ebook in ebooks:\n",
    "        print(ebook.get_info())\n",
    "\n",
    "if __name__ == \"__main__\":\n",
    "    main()\n"
   ]
  }
 ],
 "metadata": {
  "language_info": {
   "name": "python"
  }
 },
 "nbformat": 4,
 "nbformat_minor": 2
}
