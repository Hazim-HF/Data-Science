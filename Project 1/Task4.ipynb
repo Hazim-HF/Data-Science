{
 "cells": [
  {
   "cell_type": "code",
   "execution_count": null,
   "metadata": {},
   "outputs": [],
   "source": [
    "# Creating and writing to movie.txt\n",
    "with open(\"movie.txt\", \"w\") as movie_file:\n",
    "    movies = [\"Inception\", \"The Matrix\", \"Interstellar\", \"Parasite\", \"The Godfather\"]\n",
    "    for movie in movies:\n",
    "        movie_file.write(movie + \"\\n\")\n",
    "\n",
    "# Creating and writing to sport.txt\n",
    "with open(\"sport.txt\", \"w\") as sport_file:\n",
    "    sports = [\"Soccer\", \"Basketball\", \"Tennis\", \"Cricket\", \"Rugby\"]\n",
    "    for sport in sports:\n",
    "        sport_file.write(sport + \"\\n\")\n"
   ]
  },
  {
   "cell_type": "code",
   "execution_count": null,
   "metadata": {},
   "outputs": [],
   "source": []
  }
 ],
 "metadata": {
  "language_info": {
   "name": "python"
  }
 },
 "nbformat": 4,
 "nbformat_minor": 2
}
