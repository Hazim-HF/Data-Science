{
 "cells": [
  {
   "cell_type": "markdown",
   "metadata": {},
   "source": [
    "**1. Make 2 files, movie.txt and sport.txt. Store at least five names of movies and sports line by line in these corresponding text files.**"
   ]
  },
  {
   "cell_type": "code",
   "execution_count": 18,
   "metadata": {},
   "outputs": [],
   "source": [
    "# movie.txt\n",
    "with open('movie.txt', 'w') as movie_file:\n",
    "    movie = ['Cicakman', 'Polis Evo', 'Ombak Rindu', 'KL Gangster', 'Adnan Sempit', 'Hantu Kak Limah', 'Paskal', 'Munafik', 'Abang Long Fadil', 'Zombi Kampung Pisang']\n",
    "    for muvi in movie:\n",
    "        movie_file.write(muvi + '\\n')\n",
    "\n",
    "# sport.txt\n",
    "with open('sport.txt', 'w') as sport_file:\n",
    "    sport = ['Badminton', 'Takraw', 'Batu Seremban', 'Catur', 'Congkak', 'Gasing', 'Silat']\n",
    "    for sukan in sport:\n",
    "        sport_file.write(sukan + '\\n')"
   ]
  },
  {
   "cell_type": "markdown",
   "metadata": {},
   "source": [
    "**a) Write a program that tries to read these files and print the content of the file to the screen.**"
   ]
  },
  {
   "cell_type": "code",
   "execution_count": 19,
   "metadata": {},
   "outputs": [
    {
     "name": "stdout",
     "output_type": "stream",
     "text": [
      "List of movies:\n",
      "Cicakman\n",
      "Polis Evo\n",
      "Ombak Rindu\n",
      "KL Gangster\n",
      "Adnan Sempit\n",
      "Hantu Kak Limah\n",
      "Paskal\n",
      "Munafik\n",
      "Abang Long Fadil\n",
      "Zombi Kampung Pisang\n",
      "\n",
      "List of sports:\n",
      "Badminton\n",
      "Takraw\n",
      "Batu Seremban\n",
      "Catur\n",
      "Congkak\n",
      "Gasing\n",
      "Silat\n",
      "\n"
     ]
    }
   ],
   "source": [
    "try: \n",
    "    with open('movie.txt', 'r') as movie_file:\n",
    "        print(\"List of movies:\")\n",
    "        print(movie_file.read())\n",
    "\n",
    "    with open('sport.txt', 'r') as sport_file:\n",
    "        print(\"List of sports:\")\n",
    "        print(sport_file.read())\n",
    "\n",
    "except FileNotFoundError:\n",
    "    print('File not found, please re-check the location or the name of the file.')"
   ]
  },
  {
   "cell_type": "markdown",
   "metadata": {},
   "source": [
    "**b) Add 5 newlines to both of these files, describing the existing contents with suitable explanation.**"
   ]
  },
  {
   "cell_type": "code",
   "execution_count": 20,
   "metadata": {},
   "outputs": [],
   "source": [
    "with open('movie.txt', 'a') as movie_file:\n",
    "    movie_file.write('\\n10 cerita terbaik sepanjang zaman.')\n",
    "    movie_file.write('\\nAntara genre cerita adalah:')\n",
    "    movie_file.write('\\n1. Aksi')\n",
    "    movie_file.write('\\n2. Komedi')\n",
    "    movie_file.write('\\n3. Drama')\n",
    "    movie_file.write('\\n4. Romantik')\n",
    "with open('sport.txt', 'a') as sport_file:\n",
    "    sport_file.write('\\n10 7 paling popular di Malaysia.')\n",
    "    sport_file.write('\\nAntara jenis sukan tersebut adalah:')\n",
    "    sport_file.write('\\n1. Sukan tradisional')\n",
    "    sport_file.write('\\n2. Permainan dalaman')\n",
    "    sport_file.write('\\n3. Sukan luar')\n"
   ]
  },
  {
   "cell_type": "markdown",
   "metadata": {},
   "source": [
    "**c) Wrap your code in a try-except block to catch the FileNotFound error, and print a friendly message if a file is missing. Move one of the files to a different location on your system, and make sure the code in the except blcok executes properly.**"
   ]
  },
  {
   "cell_type": "markdown",
   "metadata": {},
   "source": [
    "Rename file so that it can't be located "
   ]
  },
  {
   "cell_type": "code",
   "execution_count": 21,
   "metadata": {},
   "outputs": [],
   "source": [
    "import os\n",
    "os.rename('movie.txt', 'cerita.txt')\n",
    "os.rename('sport.txt', 'sukan.txt')"
   ]
  },
  {
   "cell_type": "code",
   "execution_count": 22,
   "metadata": {},
   "outputs": [
    {
     "name": "stdout",
     "output_type": "stream",
     "text": [
      "File not found, please re-check the location of the file.\n"
     ]
    }
   ],
   "source": [
    "try: \n",
    "    with open('movie.txt', 'r') as movie_file:\n",
    "        print(\"List of movies:\")\n",
    "        print(movie_file.read())\n",
    "\n",
    "    with open('sport.txt', 'r') as sport_file:\n",
    "        print(\"List of sports:\")\n",
    "        print(sport_file.read())\n",
    "\n",
    "except FileNotFoundError:\n",
    "    print('File not found, please re-check the location of the file.')"
   ]
  },
  {
   "cell_type": "markdown",
   "metadata": {},
   "source": [
    "**2. Write a program that prompt user's year of birth and favourite number. Use json.dump() to store this number in a file. Write a seperate program that reads in this value and print the message:**\n",
    "    \n",
    "**\"My year of birth:\"**\n",
    "    \n",
    "**\"My favourite number:\"**"
   ]
  },
  {
   "cell_type": "code",
   "execution_count": 6,
   "metadata": {},
   "outputs": [],
   "source": [
    "import json"
   ]
  },
  {
   "cell_type": "markdown",
   "metadata": {},
   "source": [
    "Ask users for their year of birth and favourite number"
   ]
  },
  {
   "cell_type": "code",
   "execution_count": 7,
   "metadata": {},
   "outputs": [],
   "source": [
    "\n",
    "data = {\n",
    "    \"year_of_birth\": input(\"Enter your year of birth: \"),\n",
    "    \"favourite_number\": input(\"Enter your favourite number: \")\n",
    "}\n",
    "\n",
    "with open(\"information.json\", \"w\") as file:\n",
    "    json.dump(data, file)\n"
   ]
  },
  {
   "cell_type": "code",
   "execution_count": 8,
   "metadata": {},
   "outputs": [
    {
     "name": "stdout",
     "output_type": "stream",
     "text": [
      "My year of birth: 2000\n",
      "My favourite number: 7\n"
     ]
    }
   ],
   "source": [
    "try:\n",
    "    with open(\"information.json\", \"r\") as file:\n",
    "        data = json.load(file)\n",
    "        print(f\"My year of birth: {data['year_of_birth']}\")\n",
    "        print(f\"My favourite number: {data['favourite_number']}\")\n",
    "except FileNotFoundError:\n",
    "    print(\"File not found. Please re-check the location or the name of the file.\")\n"
   ]
  }
 ],
 "metadata": {
  "kernelspec": {
   "display_name": "Python 3",
   "language": "python",
   "name": "python3"
  },
  "language_info": {
   "codemirror_mode": {
    "name": "ipython",
    "version": 3
   },
   "file_extension": ".py",
   "mimetype": "text/x-python",
   "name": "python",
   "nbconvert_exporter": "python",
   "pygments_lexer": "ipython3",
   "version": "3.12.6"
  }
 },
 "nbformat": 4,
 "nbformat_minor": 2
}
