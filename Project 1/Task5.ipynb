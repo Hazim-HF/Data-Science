{
 "cells": [
  {
   "cell_type": "markdown",
   "metadata": {},
   "source": [
    "# Task 5 - Hazim Fitri Bin Ahmad Faudzi - P152419"
   ]
  },
  {
   "cell_type": "markdown",
   "metadata": {},
   "source": [
    "##### Create two arrays each of sizes: single 1d array, 3x3, 2x4, 4x2 and 5x5. Hence, you will have 10 arrays all together and these arrays must be generated via random number. Name your arrays in order from A to J.  "
   ]
  },
  {
   "cell_type": "markdown",
   "metadata": {},
   "source": [
    "Import Library"
   ]
  },
  {
   "cell_type": "code",
   "execution_count": 2,
   "metadata": {},
   "outputs": [],
   "source": [
    "import numpy as np"
   ]
  },
  {
   "cell_type": "markdown",
   "metadata": {},
   "source": [
    "Generate 2 1d array, 2 3x3 array, 2 2x4 array, 2 4x2 array, 2 5x5 array"
   ]
  },
  {
   "cell_type": "code",
   "execution_count": 7,
   "metadata": {},
   "outputs": [],
   "source": [
    "A = np.random.rand(5)\n",
    "B = np.random.rand(5)\n",
    "C = np.random.rand(3, 3)\n",
    "D = np.random.rand(3, 3)\n",
    "E = np.random.rand(2, 4)\n",
    "F = np.random.rand(2, 4)\n",
    "G = np.random.rand(4, 2)\n",
    "H = np.random.rand(4, 2)\n",
    "I = np.random.rand(5, 5)\n",
    "J = np.random.rand(5, 5) "
   ]
  },
  {
   "cell_type": "markdown",
   "metadata": {},
   "source": [
    "##### Using numpy library: perform at least twenty (20) functions from Table 4-3, Table 4-4, Table 4-5 and Table 4-7 from Python for Data Analysis book."
   ]
  },
  {
   "cell_type": "markdown",
   "metadata": {},
   "source": [
    "##### You must:  \n",
    "1. Perform operation on single array  \n",
    "2. Perform operation on two arrays of same size (eg. multiplication, etc.)  \n",
    "3. Perform operation on two arrays of different size (eg. dot product between array of size 2x4 and 4x2)\n",
    "\n",
    "Note: you must include all arrays created."
   ]
  },
  {
   "cell_type": "markdown",
   "metadata": {},
   "source": [
    "Table 4-3 Unary ufuncs (page 169)"
   ]
  },
  {
   "cell_type": "code",
   "execution_count": 16,
   "metadata": {},
   "outputs": [
    {
     "name": "stdout",
     "output_type": "stream",
     "text": [
      "[0.07834024 0.63779071 0.08961968 0.43464832 0.19205382]\n",
      "[1. 1. 1. 1. 1.]\n",
      "[0. 0. 0. 0. 0.]\n",
      "#############################################\n",
      "[[0.52099547 0.62735803 1.05469609]\n",
      " [1.12311929 1.68091516 0.78141711]\n",
      " [1.65162655 0.42310777 1.78190647]]\n",
      "[[1.14173936e+00 1.63955721e-01 1.03099735e+00 8.76833979e-01\n",
      "  1.55866047e+00]\n",
      " [2.35039304e+00 4.23886810e-01 1.24570797e+00 5.51959195e-01\n",
      "  2.63746356e+01]\n",
      " [5.89474520e+00 1.77667699e+00 1.06804113e+00 1.73620297e+00\n",
      "  8.67678115e-01]\n",
      " [4.04715615e-01 1.30009223e-02 5.50213716e-01 2.43011997e-01\n",
      "  1.76353306e-02]\n",
      " [3.98534462e+00 7.48942420e-01 1.88799119e-01 4.90880577e+00\n",
      "  3.79747985e+00]]\n",
      "[[False False False]\n",
      " [False False False]\n",
      " [False False False]]\n",
      "#############################################\n"
     ]
    },
    {
     "ename": "ValueError",
     "evalue": "operands could not be broadcast together with shapes (4,2) (2,4) ",
     "output_type": "error",
     "traceback": [
      "\u001b[1;31m---------------------------------------------------------------------------\u001b[0m",
      "\u001b[1;31mValueError\u001b[0m                                Traceback (most recent call last)",
      "Cell \u001b[1;32mIn[16], line 14\u001b[0m\n\u001b[0;32m     11\u001b[0m \u001b[38;5;28mprint\u001b[39m(\u001b[38;5;124m'\u001b[39m\u001b[38;5;124m#############################################\u001b[39m\u001b[38;5;124m'\u001b[39m)\n\u001b[0;32m     13\u001b[0m \u001b[38;5;66;03m# Operation on two different size arrays\u001b[39;00m\n\u001b[1;32m---> 14\u001b[0m \u001b[38;5;28mprint\u001b[39m(\u001b[43mnp\u001b[49m\u001b[38;5;241;43m.\u001b[39;49m\u001b[43mlogical_and\u001b[49m\u001b[43m(\u001b[49m\u001b[43mG\u001b[49m\u001b[43m,\u001b[49m\u001b[43m \u001b[49m\u001b[43mE\u001b[49m\u001b[43m)\u001b[49m)\n",
      "\u001b[1;31mValueError\u001b[0m: operands could not be broadcast together with shapes (4,2) (2,4) "
     ]
    }
   ],
   "source": [
    "# Operation on single array\n",
    "print(np.abs(A))\n",
    "print(np.sign(B))\n",
    "print(np.floor(A))\n",
    "print('#############################################')\n",
    "\n",
    "# Operation on two  same size arrays\n",
    "print(np.add(C, D))\n",
    "print(np.divide(I, J))\n",
    "print(np.greater(C, C))\n",
    "print('#############################################')\n",
    "\n",
    "# Operation on two different size arrays\n",
    "print(np.logical_and(G, E))"
   ]
  },
  {
   "cell_type": "markdown",
   "metadata": {},
   "source": [
    "Table 4-4 Binary universal functions (page 170)"
   ]
  },
  {
   "cell_type": "code",
   "execution_count": null,
   "metadata": {},
   "outputs": [],
   "source": [
    "# Operation on single array\n",
    "# Operation on two  same size arrays\n",
    "# Operation on two different size arrays"
   ]
  },
  {
   "cell_type": "markdown",
   "metadata": {},
   "source": [
    "Table 4-5 Basic array statistical methods (page 176)"
   ]
  },
  {
   "cell_type": "code",
   "execution_count": null,
   "metadata": {},
   "outputs": [],
   "source": [
    "# Operation on single array\n",
    "# Operation on two  same size arrays\n",
    "# Operation on two different size arrays"
   ]
  },
  {
   "cell_type": "markdown",
   "metadata": {},
   "source": [
    "Table 4-7 Commonly used numpy.linalg functions (page 184)"
   ]
  }
 ],
 "metadata": {
  "kernelspec": {
   "display_name": "Python 3",
   "language": "python",
   "name": "python3"
  },
  "language_info": {
   "codemirror_mode": {
    "name": "ipython",
    "version": 3
   },
   "file_extension": ".py",
   "mimetype": "text/x-python",
   "name": "python",
   "nbconvert_exporter": "python",
   "pygments_lexer": "ipython3",
   "version": "3.12.6"
  }
 },
 "nbformat": 4,
 "nbformat_minor": 2
}
