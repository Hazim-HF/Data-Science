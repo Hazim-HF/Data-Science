{
 "cells": [
  {
   "cell_type": "markdown",
   "metadata": {},
   "source": [
    "# Task 5 - Hazim Fitri Bin Ahmad Faudzi - P152419"
   ]
  },
  {
   "cell_type": "markdown",
   "metadata": {},
   "source": [
    "##### Create two arrays each of sizes: single 1d array, 3x3, 2x4, 4x2 and 5x5. Hence, you will have 10 arrays all together and these arrays must be generated via random number. Name your arrays in order from A to J.  "
   ]
  },
  {
   "cell_type": "markdown",
   "metadata": {},
   "source": [
    "Import Library"
   ]
  },
  {
   "cell_type": "code",
   "execution_count": 2,
   "metadata": {},
   "outputs": [],
   "source": [
    "import numpy as np"
   ]
  },
  {
   "cell_type": "markdown",
   "metadata": {},
   "source": [
    "Generate 2 1d array, 2 3x3 array, 2 2x4 array, 2 4x2 array, 2 5x5 array"
   ]
  },
  {
   "cell_type": "code",
   "execution_count": 32,
   "metadata": {},
   "outputs": [],
   "source": [
    "A = np.random.rand(1)\n",
    "B = np.random.rand(5)\n",
    "C = np.random.rand(3, 3)\n",
    "D = np.random.rand(3, 3)\n",
    "E = np.random.rand(2, 4)\n",
    "F = np.random.rand(2, 4)\n",
    "G = np.random.rand(4, 2)\n",
    "H = np.random.rand(4, 2)\n",
    "I = np.random.rand(5, 5)\n",
    "J = np.random.rand(5, 5)"
   ]
  },
  {
   "cell_type": "markdown",
   "metadata": {},
   "source": [
    "##### Using numpy library: perform at least twenty (20) functions from Table 4-3, Table 4-4, Table 4-5 and Table 4-7 from Python for Data Analysis book."
   ]
  },
  {
   "cell_type": "markdown",
   "metadata": {},
   "source": [
    "##### You must:  \n",
    "1. Perform operation on single array  \n",
    "2. Perform operation on two arrays of same size (eg. multiplication, etc.)  \n",
    "3. Perform operation on two arrays of different size (eg. dot product between array of size 2x4 and 4x2)\n",
    "\n",
    "Note: you must include all arrays created."
   ]
  },
  {
   "cell_type": "markdown",
   "metadata": {},
   "source": [
    "Table 4-3 Unary ufuncs (page 169)"
   ]
  },
  {
   "cell_type": "code",
   "execution_count": 33,
   "metadata": {},
   "outputs": [
    {
     "name": "stdout",
     "output_type": "stream",
     "text": [
      "[0.54226612]\n",
      "----------------------------------------------\n",
      "[0.67266282 0.52957211 0.93688001 0.99356725 0.92620755]\n",
      "----------------------------------------------\n",
      "[[1.18046466 1.29766905 2.20286695]\n",
      " [1.57527231 1.95078283 2.29432429]\n",
      " [2.18374162 1.31392286 2.09378585]]\n",
      "----------------------------------------------\n",
      "[[1. 0. 1.]\n",
      " [1. 0. 0.]\n",
      " [0. 1. 0.]]\n",
      "----------------------------------------------\n",
      "[[False False False False]\n",
      " [False False False False]]\n",
      "----------------------------------------------\n",
      "[[0.73363523 0.82308032 0.98874578 0.99093842]\n",
      " [0.97938695 0.97089001 0.77667516 0.9923783 ]]\n",
      "----------------------------------------------\n",
      "[[-4.20979104 -0.59988027]\n",
      " [-0.44799862 -0.74983734]\n",
      " [-1.09920841 -0.04195012]\n",
      " [-2.02792952 -1.25489804]]\n",
      "----------------------------------------------\n",
      "[[1. 1.]\n",
      " [1. 1.]\n",
      " [1. 1.]\n",
      " [1. 1.]]\n",
      "----------------------------------------------\n",
      "[[0. 0. 0. 0. 0.]\n",
      " [0. 0. 0. 0. 0.]\n",
      " [0. 0. 0. 0. 0.]\n",
      " [0. 0. 0. 0. 0.]\n",
      " [0. 0. 0. 0. 0.]]\n",
      "----------------------------------------------\n",
      "[[False False False False False]\n",
      " [False False False False False]\n",
      " [False False False False False]\n",
      " [False False False False False]\n",
      " [False False False False False]]\n",
      "----------------------------------------------\n"
     ]
    }
   ],
   "source": [
    "# Operation on single array\n",
    "print(np.abs(A))\n",
    "print('----------------------------------------------')\n",
    "print(np.sqrt(B))\n",
    "print('----------------------------------------------')\n",
    "print(np.exp(C))\n",
    "print('----------------------------------------------')\n",
    "print(np.rint(D))\n",
    "print('----------------------------------------------')\n",
    "print(np.isnan(E))\n",
    "print('----------------------------------------------')\n",
    "print(np.cos(F))\n",
    "print('----------------------------------------------')\n",
    "print(np.log(G))\n",
    "print('----------------------------------------------')\n",
    "print(np.ceil(H))\n",
    "print('----------------------------------------------')\n",
    "print(np.floor(I))\n",
    "print('----------------------------------------------')\n",
    "print(np.logical_not(J))\n",
    "print('----------------------------------------------')"
   ]
  },
  {
   "cell_type": "markdown",
   "metadata": {},
   "source": [
    "Table 4-4 Binary universal functions (page 170)"
   ]
  },
  {
   "cell_type": "code",
   "execution_count": 34,
   "metadata": {},
   "outputs": [
    {
     "name": "stdout",
     "output_type": "stream",
     "text": [
      "[[0.2133117  0.87037111 0.85347152]\n",
      " [0.73147061 1.42093058 1.75518573]\n",
      " [2.53017756 0.33837642 2.93859946]]\n",
      "----------------------------------------------\n",
      "[[0.74055885 0.98972608 0.9878779  0.98821849 0.94810681]\n",
      " [0.53821896 0.96567039 0.82830876 0.98065233 0.93073059]\n",
      " [0.85347527 0.62370183 0.9987605  0.37262809 0.81370763]\n",
      " [0.25141059 0.87539249 0.4484259  0.97052281 0.65849859]\n",
      " [0.71831686 0.95214553 0.8159135  0.79128441 0.44897681]]\n",
      "----------------------------------------------\n",
      "[[0.65278685 0.91389281 0.70651469 0.8041914  0.82667658]\n",
      " [0.43732941 0.39999419 0.32172158 0.77726839 0.87684809]\n",
      " [0.33695317 0.53494182 0.95514557 0.35263245 0.78065706]\n",
      " [0.12914641 0.86111855 0.06370479 0.96829948 0.06545767]\n",
      " [0.53204719 0.89694095 0.45003028 0.78839477 0.28808069]]\n",
      "----------------------------------------------\n",
      "[[1. 1. 1. 1. 1.]\n",
      " [1. 1. 1. 1. 1.]\n",
      " [1. 1. 1. 1. 1.]\n",
      " [1. 1. 1. 1. 1.]\n",
      " [1. 1. 1. 1. 1.]]\n",
      "----------------------------------------------\n",
      "[[0.7777733  0.2993776  0.92534976]\n",
      " [0.62125278 0.47027684 0.47313419]\n",
      " [0.3086897  0.80684468 0.25147144]]\n",
      "----------------------------------------------\n",
      "[[False False False]\n",
      " [False False False]\n",
      " [False False False]]\n"
     ]
    }
   ],
   "source": [
    "# Operation on two  same size arrays\n",
    "print(np.divide(C, D))\n",
    "print('----------------------------------------------')\n",
    "print(np.power(J, I))\n",
    "print('----------------------------------------------')\n",
    "print(np.maximum(J, J))\n",
    "print('----------------------------------------------')\n",
    "print(np.divide(I, I))\n",
    "print('----------------------------------------------')\n",
    "print(np.copysign(D, C))\n",
    "print('----------------------------------------------')\n",
    "print(np.greater(C, C))"
   ]
  },
  {
   "cell_type": "markdown",
   "metadata": {},
   "source": [
    "Table 4-5 Basic array statistical methods (page 176)"
   ]
  },
  {
   "cell_type": "code",
   "execution_count": 35,
   "metadata": {},
   "outputs": [
    {
     "name": "stdout",
     "output_type": "stream",
     "text": [
      "0.5422661245152643\n",
      "----------------------------------------------\n",
      "0.6911404678373638\n",
      "----------------------------------------------\n",
      "[0.16590814 0.04323062 0.0341418  0.015515   0.0103676  0.00860965\n",
      " 0.00672448 0.0018359  0.00135668]\n",
      "----------------------------------------------\n",
      "0.23242970465545268\n",
      "----------------------------------------------\n",
      "0.041955774564725656\n",
      "----------------------------------------------\n",
      "7\n",
      "----------------------------------------------\n",
      "[0.01484947 0.56372682 1.20263238 1.67507578 2.00821047 2.96712808\n",
      " 3.09873581 3.38384073]\n",
      "----------------------------------------------\n",
      "0.9694738651541535\n",
      "----------------------------------------------\n",
      "23\n",
      "----------------------------------------------\n",
      "0.07979678496479094\n"
     ]
    }
   ],
   "source": [
    "# Operation on single array\n",
    "print(np.sum(A))\n",
    "print('----------------------------------------------')\n",
    "print(np.mean(B))\n",
    "print('----------------------------------------------')\n",
    "print(np.cumprod(C))\n",
    "print('----------------------------------------------')\n",
    "print(np.std(D))\n",
    "print('----------------------------------------------')\n",
    "print(np.min(E))\n",
    "print('----------------------------------------------')\n",
    "print(np.argmin(F))\n",
    "print('----------------------------------------------')\n",
    "print(np.cumsum(G))\n",
    "print('----------------------------------------------')\n",
    "print(np.max(H))\n",
    "print('----------------------------------------------')\n",
    "print(np.argmax(I))\n",
    "print('----------------------------------------------')\n",
    "print(np.var(J))"
   ]
  },
  {
   "cell_type": "markdown",
   "metadata": {},
   "source": [
    "Table 4-7 Commonly used numpy.linalg functions (page 184)"
   ]
  },
  {
   "cell_type": "code",
   "execution_count": 51,
   "metadata": {},
   "outputs": [
    {
     "name": "stdout",
     "output_type": "stream",
     "text": [
      "[0.65278685 0.39999419 0.95514557 0.96829948 0.28808069]\n",
      "----------------------------------------------\n",
      "1.5731127257616138\n",
      "#############################################\n",
      "[[0.53470919 0.80942242 0.47540945]\n",
      " [1.02493006 1.12033383 0.94549932]\n",
      " [1.00519817 0.95845659 1.03773953]]\n",
      "#############################################\n"
     ]
    },
    {
     "data": {
      "text/plain": [
       "array([[0.4647398 , 0.87784633],\n",
       "       [0.40082292, 0.91456509]])"
      ]
     },
     "execution_count": 51,
     "metadata": {},
     "output_type": "execute_result"
    }
   ],
   "source": [
    "# Operation on single array\n",
    "print(np.diag(J))\n",
    "print('----------------------------------------------')\n",
    "print(np.trace(C))\n",
    "print('#############################################')\n",
    "\n",
    "# Operation on two  same size arrays\n",
    "print(np.dot(C, D))\n",
    "print('#############################################')\n",
    "\n",
    "# Operation on two different size arrays\n",
    "np.dot(F, G)"
   ]
  }
 ],
 "metadata": {
  "kernelspec": {
   "display_name": "Python 3",
   "language": "python",
   "name": "python3"
  },
  "language_info": {
   "codemirror_mode": {
    "name": "ipython",
    "version": 3
   },
   "file_extension": ".py",
   "mimetype": "text/x-python",
   "name": "python",
   "nbconvert_exporter": "python",
   "pygments_lexer": "ipython3",
   "version": "3.12.6"
  }
 },
 "nbformat": 4,
 "nbformat_minor": 2
}
