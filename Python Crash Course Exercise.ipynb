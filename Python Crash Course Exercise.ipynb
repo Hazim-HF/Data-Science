{
 "cells": [
  {
   "cell_type": "code",
   "execution_count": null,
   "metadata": {},
   "outputs": [
    {
     "name": "stdout",
     "output_type": "stream",
     "text": [
      "I'm thinking of a number! Try to guess the number I'm thinking of: 25\n"
     ]
    }
   ],
   "source": [
    "number = input(\"Think of a number\")\n",
    "print(f\"I'm thinking of a number! Try to guess the number I'm thinking of: {number}\")\n",
    "\n",
    "guessed_number = input('Guess a number')\n",
    "if guessed_number > number:\n",
    "    input(f'Too high! Guess again: ')\n",
    "elif guessed_number < number:\n",
    "    input('Too low! Guess again: ')\n",
    "else:\n",
    "    print(\"That's it! Would you like to play again? (yes/no)\")"
   ]
  },
  {
   "cell_type": "code",
   "execution_count": null,
   "metadata": {},
   "outputs": [
    {
     "name": "stdout",
     "output_type": "stream",
     "text": [
      "hai\n",
      "choii\n",
      "Hai Hazim, would you like to learn some Python today\n",
      "Hai Hazim, would you like to learn some Python today\n",
      "Hai HAZIM, would you like to learn some Python today\n",
      "Hai hazim, would you like to learn some Python today\n",
      "Albert Einstein once said, “A person who never made a mistake never tried anything new.”\n",
      "Albert Einstein once said, “A person who never made a mistake never tried anything new.”\n",
      "        Hazim         \n",
      "Fitri\n",
      "Hazim\tFitri\n",
      "8\n",
      "8\n",
      "8.0\n",
      "8\n",
      "My favorite number is 7\n"
     ]
    }
   ],
   "source": [
    "# Hazim\n",
    "# 14/11/2024\n",
    "# Try it yourself from Python Crash Course Book\n",
    "# Chapter 2\n",
    "variable = 'hai'\n",
    "print(variable)\n",
    "\n",
    "variable = 'choii'\n",
    "print(variable)\n",
    "\n",
    "name = 'Hazim'\n",
    "print(f\"Hai {name}, would you like to learn some Python today\")\n",
    "print(f\"Hai {name.title()}, would you like to learn some Python today\")\n",
    "print(f\"Hai {name.upper()}, would you like to learn some Python today\")\n",
    "print(f\"Hai {name.lower()}, would you like to learn some Python today\")\n",
    "\n",
    "quote = 'Albert Einstein once said, “A person who never made a mistake never tried anything new.”'\n",
    "print(quote)\n",
    "\n",
    "famous_person = 'Albert Einstein'\n",
    "message = 'A person who never made a mistake never tried anything new.'\n",
    "print(f'{famous_person} once said, “{message}”')\n",
    "\n",
    "first_name = '        Hazim         '\n",
    "last_name = 'Fitri'\n",
    "print(first_name + \"\\n\" + last_name)\n",
    "print(first_name.strip() + '\\t' + last_name)\n",
    "\n",
    "print(5 + 3)\n",
    "print(2 * 4)\n",
    "print(16 / 2)\n",
    "print(10 - 2)\n",
    "\n",
    "fav_no = 7\n",
    "print(f'My favorite number is {fav_no}')"
   ]
  },
  {
   "cell_type": "code",
   "execution_count": 65,
   "metadata": {},
   "outputs": [
    {
     "name": "stdout",
     "output_type": "stream",
     "text": [
      "Haziq\n",
      "Hazim\n",
      "Hamizah\n",
      "Harith\n",
      "Haidah\n",
      "Hadif\n",
      "Hai Haziq\n",
      "Hai Hazim\n",
      "I would like to own a Car\n",
      "Hai ['UAI', 'Soloz'], you're invited to a dinner\n",
      "Elon Musk can't attend the dinner\n",
      "Hai Mark Zuckerberg, you're invited to a dinner\n",
      "Hai Fredo, you're invited to a dinner\n",
      "Hai Gripex, you're invited to a dinner\n",
      "['Fredo', 'Michael Jackson', 'Mark Zuckerberg', 'Gripex', 'UAI', 'Soloz']\n",
      "Hai Xorn, you're invited to a dinner\n",
      "Hai Fredo, you're invited to a dinner\n",
      "Hai Michael Jackson, you're invited to a dinner\n",
      "Hai Mark Zuckerberg, you're invited to a dinner\n",
      "Hai Gripex, you're invited to a dinner\n",
      "Hai UAI, you're invited to a dinner\n",
      "Hai Soloz, you're invited to a dinner\n",
      "Hai Xorn, you're invited to a dinner\n",
      "Sorry Guys, I can only invite two people\n",
      "Hai Fredo, due to some circumstances, you'll be rejected\n",
      "Hai Michael Jackson, due to some circumstances, you'll be rejected\n"
     ]
    },
    {
     "data": {
      "text/plain": [
       "[]"
      ]
     },
     "execution_count": 65,
     "metadata": {},
     "output_type": "execute_result"
    }
   ],
   "source": [
    "# 3 - 1\n",
    "names = ['Haziq', 'Hazim', 'Hamizah', 'Harith', 'Haidah', 'Hadif']\n",
    "print(names[0])\n",
    "print(names[1])\n",
    "print(names[2])\n",
    "print(names[3])\n",
    "print(names[4])\n",
    "print(names[5])\n",
    "\n",
    "# 3 - 2\n",
    "print(f'Hai {names[0]}')\n",
    "print(f'Hai {names[1]}')\n",
    "\n",
    "# 3 - 3\n",
    "transportation = ['Car', 'Motorcycle', 'Airoplane', 'Train']\n",
    "print(f'I would like to own a {transportation[0]}')\n",
    "\n",
    "# 3 - 4\n",
    "Guest = ['Michael Jackson', 'Elon Musk', 'UAI', 'Soloz']\n",
    "print(f\"Hai {Guest[2:]}, you're invited to a dinner\")\n",
    "print(\"Elon Musk can't attend the dinner\")\n",
    "\n",
    "# 3 - 5\n",
    "Guest[1] = 'Mark Zuckerberg'\n",
    "print(f\"Hai {Guest[1]}, you're invited to a dinner\")\n",
    "\n",
    "# 3 - 6\n",
    "Guest.insert(0,'Fredo')\n",
    "print(f\"Hai {Guest[0]}, you're invited to a dinner\")\n",
    "\n",
    "Guest.insert(3, 'Gripex')\n",
    "print(f\"Hai {Guest[3]}, you're invited to a dinner\")\n",
    "print(Guest)\n",
    "\n",
    "Guest.append('Xorn')\n",
    "print(f\"Hai {Guest[-1]}, you're invited to a dinner\")\n",
    "\n",
    "for tetamu in Guest:\n",
    "    print(f\"Hai {tetamu}, you're invited to a dinner\")\n",
    "\n",
    "# 3 - 7\n",
    "print('Sorry Guys, I can only invite two people')\n",
    "reject1 = Guest.pop(0)\n",
    "print(f\"Hai {reject1}, due to some circumstances, you'll be rejected\")\n",
    "reject2 = Guest.pop(0)\n",
    "print(f\"Hai {reject2}, due to some circumstances, you'll be rejected\")\n",
    "del Guest[:]\n",
    "Guest"
   ]
  },
  {
   "cell_type": "code",
   "execution_count": 70,
   "metadata": {},
   "outputs": [
    {
     "name": "stdout",
     "output_type": "stream",
     "text": [
      "['Korea', 'Japan', 'Switzerland', 'UK', 'Saudi']\n",
      "['Japan', 'Korea', 'Saudi', 'Switzerland', 'UK']\n",
      "['Korea', 'Japan', 'Switzerland', 'UK', 'Saudi']\n",
      "['UK', 'Switzerland', 'Saudi', 'Korea', 'Japan']\n",
      "['Korea', 'Japan', 'Switzerland', 'UK', 'Saudi']\n",
      "['Saudi', 'UK', 'Switzerland', 'Japan', 'Korea']\n",
      "['Korea', 'Japan', 'Switzerland', 'UK', 'Saudi']\n",
      "['Japan', 'Korea', 'Saudi', 'Switzerland', 'UK']\n",
      "['UK', 'Switzerland', 'Saudi', 'Korea', 'Japan']\n",
      "0\n",
      "5\n"
     ]
    }
   ],
   "source": [
    "# 3 - 8\n",
    "place = ['Korea', 'Japan', 'Switzerland', 'UK', 'Saudi']\n",
    "print(place)\n",
    "print(sorted(place))\n",
    "print(place)\n",
    "print(sorted(place, reverse=True))\n",
    "print(place)\n",
    "place.reverse()\n",
    "print(place)\n",
    "place.reverse()\n",
    "print(place)\n",
    "place.sort()\n",
    "print(place)\n",
    "place.sort(reverse=True)\n",
    "print(place)\n",
    "\n",
    "# 3 - 9\n",
    "print(len(Guest))\n",
    "print(len(place))"
   ]
  },
  {
   "cell_type": "code",
   "execution_count": 80,
   "metadata": {},
   "outputs": [
    {
     "name": "stdout",
     "output_type": "stream",
     "text": [
      "I like Hawaiian\n",
      "I like Aloha\n",
      "I like Pepperoni\n",
      "I really love pizza\n",
      "\n",
      "I like fish\n",
      "I like cat\n",
      "I like bird\n",
      "These animals are domestic animals\n",
      "[1, 4, 9, 16, 25, 36, 49, 64, 81, 100]\n",
      "1\n",
      "2\n",
      "3\n",
      "4\n",
      "5\n",
      "6\n",
      "7\n",
      "8\n",
      "9\n",
      "10\n",
      "11\n",
      "12\n",
      "13\n",
      "14\n",
      "15\n",
      "16\n",
      "17\n",
      "18\n",
      "19\n",
      "20\n"
     ]
    }
   ],
   "source": [
    "# 4 - 1\n",
    "pizza = ['Hawaiian', 'Aloha', 'Pepperoni']\n",
    "for i in pizza:\n",
    "    print(f'I like {i}')\n",
    "\n",
    "print('I really love pizza\\n')\n",
    "\n",
    "# 4 - 2\n",
    "animals = ['fish', 'cat', 'bird']\n",
    "for i in animals:\n",
    "    print(f'I like {i}')\n",
    "\n",
    "print('These animals are domestic animals')\n",
    "\n",
    "squares = [value**2 for value in range(1,11)]\n",
    "print(squares)\n",
    "\n",
    "# 4 - 3\n",
    "for i in range(1,21):\n",
    "    print(i)\n"
   ]
  },
  {
   "cell_type": "code",
   "execution_count": 94,
   "metadata": {},
   "outputs": [
    {
     "name": "stdout",
     "output_type": "stream",
     "text": [
      "1\n",
      "999999\n",
      "499999500000\n",
      "1\n",
      "3\n",
      "5\n",
      "7\n",
      "9\n",
      "11\n",
      "13\n",
      "15\n",
      "17\n",
      "19\n",
      "3\n",
      "6\n",
      "9\n",
      "12\n",
      "15\n",
      "18\n",
      "21\n",
      "24\n",
      "27\n",
      "30\n"
     ]
    }
   ],
   "source": [
    "numbers = list(range(1,1000000))\n",
    "print(min(numbers))\n",
    "print(max(numbers))\n",
    "print(sum(numbers))\n",
    "\n",
    "# 4 - 6\n",
    "odd_number = list(range(1,21,2))\n",
    "for i in odd_number:\n",
    "    print(i)\n",
    "\n",
    "# 4 - 7\n",
    "mul_three = list(range(3,31,3))\n",
    "for i in mul_three:\n",
    "    print(i)"
   ]
  },
  {
   "cell_type": "code",
   "execution_count": null,
   "metadata": {},
   "outputs": [
    {
     "name": "stdout",
     "output_type": "stream",
     "text": [
      "{'first_name': 'Hazim Fitri', 'last_name': 'Ahmad Faudzi', 'age': 24, 'city': 'Shah Alam'}\n",
      "{'Haziq': 9, 'Hazim': 7, 'Hamizah': 45, 'Harith': 984, 'Haidah': 786, 'Hadif': 99}\n",
      "Variable: A storage location in a program that can hold a value, which can be changed during execution.\n",
      "Function: A block of reusable code that performs a specific task and can be called with parameters.\n",
      "Loop: A programming construct that repeats a block of code as long as a specified condition is true.\n",
      "List: A collection data type in Python that is ordered and mutable, allowing for duplicate elements.\n",
      "Dictionary: A collection data type in Python that stores key-value pairs, allowing for fast retrieval of values based on keys.\n",
      "Variable\n",
      "\tA storage location in a program that can hold a value, which can be changed during execution.\n",
      "Function\n",
      "\tA block of reusable code that performs a specific task and can be called with parameters.\n",
      "Loop\n",
      "\tA programming construct that repeats a block of code as long as a specified condition is true.\n",
      "List\n",
      "\tA collection data type in Python that is ordered and mutable, allowing for duplicate elements.\n",
      "Dictionary\n",
      "\tA collection data type in Python that stores key-value pairs, allowing for fast retrieval of values based on keys.\n"
     ]
    }
   ],
   "source": [
    "# 6 - 1\n",
    "info = {'first_name':'Hazim Fitri','last_name':'Ahmad Faudzi','age':24,'city':'Shah Alam'}\n",
    "print(info)\n",
    "\n",
    "# 6 - 2\n",
    "fav_no = {'Haziq':9,'Hazim':7,'Hamizah':45,'Harith':984,'Haidah':786,'Hadif':99}\n",
    "print(fav_no)\n",
    "\n",
    "# 6 - 3\n",
    "glossary = {\n",
    "    'Variable': 'A storage location in a program that can hold a value, which can be changed during execution.',\n",
    "    'Function': 'A block of reusable code that performs a specific task and can be called with parameters.',\n",
    "    'Loop': 'A programming construct that repeats a block of code as long as a specified condition is true.',\n",
    "    'List': 'A collection data type in Python that is ordered and mutable, allowing for duplicate elements.',\n",
    "    'Dictionary': 'A collection data type in Python that stores key-value pairs, allowing for fast retrieval of values based on keys.'\n",
    "}\n",
    "\n",
    "for term, meaning in glossary.items():\n",
    "    print(f\"{term}: {meaning}\")\n",
    "\n",
    "for key, value in glossary.items():\n",
    "    print(f\"{key}\\n\\t{value}\")\n"
   ]
  },
  {
   "cell_type": "code",
   "execution_count": 103,
   "metadata": {},
   "outputs": [
    {
     "name": "stdout",
     "output_type": "stream",
     "text": [
      "I made your tuna sandwich\n",
      "I made your egg sandwich\n",
      "I made your egg sandwich\n",
      "['tuna', 'mayo', 'egg']\n",
      "[]\n"
     ]
    }
   ],
   "source": [
    "# 7-8 page 164\n",
    "sandwich_order = ['tuna', 'mayo', 'egg']\n",
    "finished_sandwich = []\n",
    "\n",
    "while sandwich_order:\n",
    "    for sw in sandwich_order:\n",
    "        print(f\"I made your {sw} sandwich\")\n",
    "        jai = sandwich_order.pop(0)\n",
    "        finished_sandwich.append(jai)\n",
    "\n",
    "print(finished_sandwich)\n",
    "print(sandwich_order)\n",
    "\n",
    "# 7-10 page 164\n",
    "dream = True\n",
    "place = {}\n",
    "while dream:\n",
    "    dream_place = input(\"If you could visit one place in the world, where would you go?\")\n",
    "    place[dream_place] = \n"
   ]
  },
  {
   "cell_type": "code",
   "execution_count": 67,
   "metadata": {},
   "outputs": [
    {
     "name": "stdout",
     "output_type": "stream",
     "text": [
      "I'm learning function\n",
      "One of my favorite book is Alice In Wonderland\n",
      "The size of the shirt is s and the word printed on the shirt is hai\n",
      "The size of the shirt is s and the word printed on the shirt is hai\n",
      "The size of the shirt is s and the word printed on the shirt is hai\n",
      "The size of the shirt is L and the word printed on the shirt is hai\n",
      "KL, Malaysia\n"
     ]
    }
   ],
   "source": [
    "# 8-1 page 168\n",
    "def display_message():\n",
    "    print(\"I'm learning function\")\n",
    "\n",
    "display_message()\n",
    "\n",
    "# 8-2 page 168\n",
    "def favorite_book(title):\n",
    "    print(f\"One of my favorite book is {title.title()}\")\n",
    "\n",
    "favorite_book(\"Alice in Wonderland\")\n",
    "\n",
    "# 8-3 page 174\n",
    "def make_shirt(size, text):\n",
    "    print(f\"The size of the shirt is {size} and the word printed on the shirt is {text}\")\n",
    "\n",
    "make_shirt(\"s\", \"hai\")\n",
    "make_shirt(text = \"hai\", size = \"s\")\n",
    "\n",
    "# 8-4\n",
    "def make_shirt(size = \"L\", text = \"I love Python\"):\n",
    "    print(f\"The size of the shirt is {size} and the word printed on the shirt is {text}\")\n",
    "\n",
    "make_shirt(\"s\", \"hai\")\n",
    "make_shirt(text = \"hai\")\n",
    "\n",
    "# 8-6\n",
    "def city_country(city, country):\n",
    "    print(f\"{city}, {country}\")\n",
    "\n",
    "city_country(\"KL\", \"Malaysia\")"
   ]
  },
  {
   "cell_type": "code",
   "execution_count": 57,
   "metadata": {},
   "outputs": [
    {
     "name": "stdout",
     "output_type": "stream",
     "text": [
      "KFC\n",
      "Fast\n",
      "Restaurant Kfc serve Fast food\n",
      "The restaurant in now open\n",
      "Vanilla\n",
      "Choc\n"
     ]
    }
   ],
   "source": [
    "# 9-1 page 199\n",
    "class Restaurant():\n",
    "    def __init__(self, restaurant_name, cuisine_type):\n",
    "        self.restaurant_name = restaurant_name\n",
    "        self.cuisine_type = cuisine_type\n",
    "        self.number_served = 5\n",
    "\n",
    "    def describe_restaurant(self):\n",
    "        print(f\"Restaurant {self.restaurant_name.title()} serve {self.cuisine_type} food\")\n",
    "\n",
    "    def open_restaurant(self):\n",
    "        print(\"The restaurant in now open\")\n",
    "\n",
    "    def set_number_served(self, number_served):\n",
    "        self.number_served = number_served\n",
    "\n",
    "    def increment_number_served(self,increment):\n",
    "        self.number_served += increment\n",
    "\n",
    "# 9-6 page 211\n",
    "class IceCreamStand(Restaurant):\n",
    "    def __init__(self, restaurant_name, cuisine_type, flavor):\n",
    "        super().__init__(restaurant_name, cuisine_type)\n",
    "        self.flavor = flavor\n",
    "\n",
    "    def flavors(self):\n",
    "        for x in self.flavor:\n",
    "            print(x)\n",
    "\n",
    "restaurant = Restaurant(\"KFC\", \"Fast\")\n",
    "print(restaurant.restaurant_name)\n",
    "print(restaurant.cuisine_type)\n",
    "restaurant.describe_restaurant()\n",
    "restaurant.open_restaurant()\n",
    "restaurant.set_number_served(10)\n",
    "restaurant.number_served\n",
    "\n",
    "restaurant.increment_number_served(25)\n",
    "restaurant.number_served\n",
    "aiskrim = IceCreamStand(\"KFC\", \"Fast\",[\"Vanilla\", \"Choc\"])\n",
    "aiskrim.flavors()"
   ]
  },
  {
   "cell_type": "code",
   "execution_count": 9,
   "metadata": {},
   "outputs": [
    {
     "name": "stdout",
     "output_type": "stream",
     "text": [
      "Restaurant Murni serve western food\n",
      "Restaurant Teratai serve mamak food\n",
      "Restaurant Rmu serve malay food\n"
     ]
    }
   ],
   "source": [
    "# 9-2 page 199\n",
    "western = Restaurant(\"murni\", \"western\")\n",
    "mamak = Restaurant(\"teratai\", \"mamak\")\n",
    "malay = Restaurant(\"RMU\", \"malay\")\n",
    "western.describe_restaurant()\n",
    "mamak.describe_restaurant()\n",
    "malay.describe_restaurant()"
   ]
  },
  {
   "cell_type": "code",
   "execution_count": 43,
   "metadata": {},
   "outputs": [
    {
     "name": "stdout",
     "output_type": "stream",
     "text": [
      "First name: Hazim\n",
      "Last name: Faudzi\n",
      "Location: shah alam\n",
      "Hai Hazim Faudzi\n",
      "9\n"
     ]
    },
    {
     "data": {
      "text/plain": [
       "0"
      ]
     },
     "execution_count": 43,
     "metadata": {},
     "output_type": "execute_result"
    }
   ],
   "source": [
    "# 9-3 & 9-5\n",
    "class User():\n",
    "    def __init__(self, first_name, last_name, location, login_attempts):\n",
    "        self.first_name = first_name\n",
    "        self.last_name = last_name\n",
    "        self.location = location\n",
    "        self.login_attempts = login_attempts\n",
    "        \n",
    "    def summary(self):\n",
    "        print(f\"First name: {self.first_name}\\nLast name: {self.last_name}\\nLocation: {self.location}\")\n",
    "\n",
    "    def greet_user(self):\n",
    "        print(f\"Hai {self.first_name.title()} {self.last_name.title()}\")\n",
    "\n",
    "    def increment_login_attempts(self):\n",
    "        self.login_attempts += 1\n",
    "\n",
    "    def reset_login_attempts(self):\n",
    "        self.login_attempts = 0\n",
    "\n",
    "user = User(\"Hazim\", \"Faudzi\", \"shah alam\",6)\n",
    "user.summary()\n",
    "user.greet_user()\n",
    "user.increment_login_attempts()\n",
    "user.increment_login_attempts()\n",
    "user.increment_login_attempts()\n",
    "print(user.login_attempts)\n",
    "user.reset_login_attempts()\n",
    "user.login_attempts"
   ]
  },
  {
   "cell_type": "code",
   "execution_count": null,
   "metadata": {},
   "outputs": [],
   "source": [
    "# 9-6 page 211\n",
    "class IceCreamStand(Restaurant):\n",
    "    def __init__(self,"
   ]
  },
  {
   "cell_type": "code",
   "execution_count": 89,
   "metadata": {},
   "outputs": [
    {
     "name": "stdin",
     "output_type": "stream",
     "text": [
      "\n",
      "What is your name? malek\n",
      "Which mountain would you like to climb someday? science\n"
     ]
    },
    {
     "name": "stdout",
     "output_type": "stream",
     "text": [
      "{'malek': 'science'}\n"
     ]
    }
   ],
   "source": [
    "responses = {}\n",
    "polling_active = True\n",
    "while polling_active:\n",
    "    name = input(\"\\nWhat is your name?\")\n",
    "    response = input(\"Which mountain would you like to climb someday?\")\n",
    "    responses[name] = response\n",
    "    print(responses)\n",
    "    polling_active = False"
   ]
  },
  {
   "cell_type": "code",
   "execution_count": null,
   "metadata": {},
   "outputs": [],
   "source": []
  }
 ],
 "metadata": {
  "kernelspec": {
   "display_name": "Python 3 (ipykernel)",
   "language": "python",
   "name": "python3"
  },
  "language_info": {
   "codemirror_mode": {
    "name": "ipython",
    "version": 3
   },
   "file_extension": ".py",
   "mimetype": "text/x-python",
   "name": "python",
   "nbconvert_exporter": "python",
   "pygments_lexer": "ipython3",
   "version": "3.12.4"
  }
 },
 "nbformat": 4,
 "nbformat_minor": 4
}
