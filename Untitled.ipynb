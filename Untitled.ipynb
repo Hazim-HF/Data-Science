{
 "cells": [
  {
   "cell_type": "code",
   "execution_count": 1,
   "id": "ac832804-0dd4-4e9f-b047-6fb0fb591915",
   "metadata": {},
   "outputs": [
    {
     "name": "stdin",
     "output_type": "stream",
     "text": [
      "What car would you like Honda\n"
     ]
    },
    {
     "name": "stdout",
     "output_type": "stream",
     "text": [
      "Let me see if I can find you Honda\n"
     ]
    }
   ],
   "source": [
    "car = input(\"What car would you like\")\n",
    "print(f\"Let me see if I can find you {car}\")"
   ]
  },
  {
   "cell_type": "code",
   "execution_count": 13,
   "id": "83667cee-9757-4119-817f-7c64ae900583",
   "metadata": {},
   "outputs": [
    {
     "name": "stdin",
     "output_type": "stream",
     "text": [
      "How many people are in your dinner group? 8\n"
     ]
    },
    {
     "name": "stdout",
     "output_type": "stream",
     "text": [
      "Table is ready\n"
     ]
    }
   ],
   "source": [
    "people = input(\"How many people are in your dinner group?\")\n",
    "people = int(people)\n",
    "if people > 8:\n",
    "    print(\"You'll need to wait\")\n",
    "else:\n",
    "    print(\"Table is ready\")"
   ]
  },
  {
   "cell_type": "code",
   "execution_count": 17,
   "id": "806ad5a0-3004-4a6c-b8f3-7e2fd49fc082",
   "metadata": {},
   "outputs": [
    {
     "name": "stdin",
     "output_type": "stream",
     "text": [
      "Please provide a number 500\n"
     ]
    },
    {
     "name": "stdout",
     "output_type": "stream",
     "text": [
      "This number is a multiple of 10\n"
     ]
    }
   ],
   "source": [
    "# 7 - 3\n",
    "number = int(input(\"Please provide a number\"))\n",
    "if number % 10 == 0:\n",
    "    print(\"This number is a multiple of 10\")\n",
    "else:\n",
    "    print(\"This number is not a multiple of 10\")\n"
   ]
  },
  {
   "cell_type": "code",
   "execution_count": null,
   "id": "d20bad7e-8c19-4068-8f6d-066549180233",
   "metadata": {},
   "outputs": [],
   "source": [
    "# 7 - 4\n",
    "while True:\n",
    "    print(\""
   ]
  }
 ],
 "metadata": {
  "kernelspec": {
   "display_name": "Python 3 (ipykernel)",
   "language": "python",
   "name": "python3"
  },
  "language_info": {
   "codemirror_mode": {
    "name": "ipython",
    "version": 3
   },
   "file_extension": ".py",
   "mimetype": "text/x-python",
   "name": "python",
   "nbconvert_exporter": "python",
   "pygments_lexer": "ipython3",
   "version": "3.12.4"
  }
 },
 "nbformat": 4,
 "nbformat_minor": 5
}
